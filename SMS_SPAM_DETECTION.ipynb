{
  "nbformat": 4,
  "nbformat_minor": 0,
  "metadata": {
    "colab": {
      "provenance": [],
      "authorship_tag": "ABX9TyNcv0VH/mFQh9YqlUDa96Gr",
      "include_colab_link": true
    },
    "kernelspec": {
      "name": "python3",
      "display_name": "Python 3"
    },
    "language_info": {
      "name": "python"
    }
  },
  "cells": [
    {
      "cell_type": "markdown",
      "metadata": {
        "id": "view-in-github",
        "colab_type": "text"
      },
      "source": [
        "<a href=\"https://colab.research.google.com/github/deathnote995/CodSoft_Internship_Projects/blob/main/SMS_SPAM_DETECTION.ipynb\" target=\"_parent\"><img src=\"https://colab.research.google.com/assets/colab-badge.svg\" alt=\"Open In Colab\"/></a>"
      ]
    },
    {
      "cell_type": "code",
      "execution_count": 3,
      "metadata": {
        "colab": {
          "base_uri": "https://localhost:8080/"
        },
        "id": "ylg-R_GgIY8i",
        "outputId": "62abc348-1953-404d-94ad-6550d799be17"
      },
      "outputs": [
        {
          "output_type": "stream",
          "name": "stderr",
          "text": [
            "Progress: 100%: 100%|██████████| 100/100 [00:00<00:00, 5802.05it/s]"
          ]
        },
        {
          "output_type": "stream",
          "name": "stdout",
          "text": [
            "Accuracy: 0.96\n",
            "Classification Report:\n",
            "                precision    recall  f1-score   support\n",
            "\n",
            "Legitimate SMS       0.95      1.00      0.97       889\n",
            "      Spam SMS       1.00      0.68      0.81       145\n",
            "\n",
            "      accuracy                           0.96      1034\n",
            "     macro avg       0.98      0.84      0.89      1034\n",
            "  weighted avg       0.96      0.96      0.95      1034\n",
            "\n"
          ]
        },
        {
          "output_type": "stream",
          "name": "stderr",
          "text": [
            "\n"
          ]
        }
      ],
      "source": [
        "# Lets start the code by importing necessary libraries\n",
        "import pandas as pd\n",
        "import numpy as np\n",
        "from sklearn.model_selection import train_test_split\n",
        "from sklearn.feature_extraction.text import TfidfVectorizer\n",
        "from sklearn.naive_bayes import MultinomialNB\n",
        "from sklearn.metrics import accuracy_score, classification_report\n",
        "from tqdm import tqdm\n",
        "\n",
        "# Load the SMS Spam Collection dataset while specifying appropriate encoding format.\n",
        "data = pd.read_csv('/content/spam.csv', encoding='latin-1')\n",
        "\n",
        "# Preprocess the input data\n",
        "data.drop_duplicates(inplace=True)\n",
        "data['label'] = data['v1'].map({'ham': 'ham', 'spam': 'spam'})\n",
        "X = data['v2']\n",
        "y = data['label']\n",
        "\n",
        "# Split the data into two sets: Training Set and Testing Set\n",
        "X_train, X_test, y_train, y_test = train_test_split(X, y, test_size=0.2, random_state=42)\n",
        "\n",
        "# Create a TF-IDF vectorizer\n",
        "tfidf_vectorizer = TfidfVectorizer()\n",
        "\n",
        "# Fit the vectorizer to the training data\n",
        "X_train_tfidf = tfidf_vectorizer.fit_transform(X_train)\n",
        "\n",
        "# Initialize a Naive Bayes classifier\n",
        "classifier = MultinomialNB()\n",
        "\n",
        "# Train the classifier\n",
        "classifier.fit(X_train_tfidf, y_train)\n",
        "\n",
        "# Transform the test data using the same vectorizer\n",
        "X_test_tfidf = tfidf_vectorizer.transform(X_test)\n",
        "\n",
        "# Make predictions\n",
        "y_pred = classifier.predict(X_test_tfidf)\n",
        "\n",
        "# Calculate accuracy\n",
        "accuracy = accuracy_score(y_test, y_pred)\n",
        "\n",
        "# Display classification report with labels 'ham' and 'spam'\n",
        "report = classification_report(y_test, y_pred, target_names=['Legitimate SMS', 'Spam SMS'])\n",
        "\n",
        "# Create a progress bar\n",
        "progress_bar = tqdm(total=100, position=0, leave=True)\n",
        "\n",
        "# Simulate progress updates\n",
        "for i in range(10, 101, 10):\n",
        "    progress_bar.update(10)\n",
        "    progress_bar.set_description(f'Progress: {i}%')\n",
        "\n",
        "# Close the progress bar\n",
        "progress_bar.close()\n",
        "\n",
        "# Display the results on the interface where the code was initiated from.\n",
        "print(f'Accuracy: {accuracy:.2f}')\n",
        "print('Classification Report:')\n",
        "print(report)"
      ]
    }
  ]
}